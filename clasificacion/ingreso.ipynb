{
 "cells": [
  {
   "cell_type": "code",
   "execution_count": 401,
   "metadata": {},
   "outputs": [],
   "source": [
    "import pandas as pd\n",
    "from sklearn.tree import DecisionTreeClassifier \n",
    "from sklearn.model_selection import train_test_split \n",
    "from sklearn import metrics \n",
    "from sklearn.metrics import confusion_matrix, ConfusionMatrixDisplay\n",
    "from sklearn.naive_bayes import GaussianNB\n",
    "import numpy as np\n",
    "from sklearn.neighbors import KNeighborsClassifier\n",
    "from sklearn.preprocessing import StandardScaler"
   ]
  },
  {
   "cell_type": "markdown",
   "metadata": {},
   "source": [
    "# Desicion Tree"
   ]
  },
  {
   "cell_type": "markdown",
   "metadata": {},
   "source": [
    "### Leer datos"
   ]
  },
  {
   "cell_type": "code",
   "execution_count": 402,
   "metadata": {},
   "outputs": [
    {
     "data": {
      "text/html": [
       "<div>\n",
       "<style scoped>\n",
       "    .dataframe tbody tr th:only-of-type {\n",
       "        vertical-align: middle;\n",
       "    }\n",
       "\n",
       "    .dataframe tbody tr th {\n",
       "        vertical-align: top;\n",
       "    }\n",
       "\n",
       "    .dataframe thead th {\n",
       "        text-align: right;\n",
       "    }\n",
       "</style>\n",
       "<table border=\"1\" class=\"dataframe\">\n",
       "  <thead>\n",
       "    <tr style=\"text-align: right;\">\n",
       "      <th></th>\n",
       "      <th>hora_inicio_viaje</th>\n",
       "      <th>p31_hora_llegada</th>\n",
       "      <th>tiempo_viaje</th>\n",
       "      <th>p17_Id_motivo_viaje</th>\n",
       "      <th>p30_camino_cuadras</th>\n",
       "      <th>p30_camino_minutos</th>\n",
       "      <th>p32_lunes</th>\n",
       "      <th>p32_martes</th>\n",
       "      <th>p32_miercoles</th>\n",
       "      <th>p32_jueves</th>\n",
       "      <th>p32_viernes</th>\n",
       "      <th>p32_sabado</th>\n",
       "      <th>p32_domingo</th>\n",
       "      <th>p32_ocasional</th>\n",
       "      <th>p33_aplicacion_antes_viaje</th>\n",
       "      <th>modo_principal</th>\n",
       "      <th>etiqueta_ingresos</th>\n",
       "      <th>edad</th>\n",
       "      <th>p15v_subsidio_SITP</th>\n",
       "      <th>A-ITTP</th>\n",
       "    </tr>\n",
       "  </thead>\n",
       "  <tbody>\n",
       "    <tr>\n",
       "      <th>0</th>\n",
       "      <td>0.3333</td>\n",
       "      <td>0.3542</td>\n",
       "      <td>30.0</td>\n",
       "      <td>ver a alguien</td>\n",
       "      <td>5.0</td>\n",
       "      <td>5.0</td>\n",
       "      <td>1.0</td>\n",
       "      <td>0.0</td>\n",
       "      <td>0.0</td>\n",
       "      <td>0.0</td>\n",
       "      <td>1.0</td>\n",
       "      <td>0.0</td>\n",
       "      <td>0.0</td>\n",
       "      <td>0.0</td>\n",
       "      <td>0.0</td>\n",
       "      <td>SITP</td>\n",
       "      <td>Ingreso_medio</td>\n",
       "      <td>37</td>\n",
       "      <td>4.0</td>\n",
       "      <td>180.41</td>\n",
       "    </tr>\n",
       "    <tr>\n",
       "      <th>2</th>\n",
       "      <td>0.2500</td>\n",
       "      <td>0.3125</td>\n",
       "      <td>90.0</td>\n",
       "      <td>trabajo</td>\n",
       "      <td>4.0</td>\n",
       "      <td>15.0</td>\n",
       "      <td>1.0</td>\n",
       "      <td>1.0</td>\n",
       "      <td>1.0</td>\n",
       "      <td>1.0</td>\n",
       "      <td>1.0</td>\n",
       "      <td>0.0</td>\n",
       "      <td>0.0</td>\n",
       "      <td>0.0</td>\n",
       "      <td>0.0</td>\n",
       "      <td>SITP</td>\n",
       "      <td>Ingreso_bajo</td>\n",
       "      <td>28</td>\n",
       "      <td>4.0</td>\n",
       "      <td>303.53</td>\n",
       "    </tr>\n",
       "    <tr>\n",
       "      <th>3</th>\n",
       "      <td>0.3333</td>\n",
       "      <td>0.3472</td>\n",
       "      <td>20.0</td>\n",
       "      <td>trabajo</td>\n",
       "      <td>5.0</td>\n",
       "      <td>5.0</td>\n",
       "      <td>1.0</td>\n",
       "      <td>1.0</td>\n",
       "      <td>1.0</td>\n",
       "      <td>1.0</td>\n",
       "      <td>1.0</td>\n",
       "      <td>0.0</td>\n",
       "      <td>0.0</td>\n",
       "      <td>0.0</td>\n",
       "      <td>0.0</td>\n",
       "      <td>SITP</td>\n",
       "      <td>Ingreso_medio</td>\n",
       "      <td>21</td>\n",
       "      <td>4.0</td>\n",
       "      <td>54.64</td>\n",
       "    </tr>\n",
       "    <tr>\n",
       "      <th>12</th>\n",
       "      <td>0.2292</td>\n",
       "      <td>0.2500</td>\n",
       "      <td>30.0</td>\n",
       "      <td>trabajo</td>\n",
       "      <td>10.0</td>\n",
       "      <td>30.0</td>\n",
       "      <td>1.0</td>\n",
       "      <td>1.0</td>\n",
       "      <td>1.0</td>\n",
       "      <td>1.0</td>\n",
       "      <td>0.0</td>\n",
       "      <td>1.0</td>\n",
       "      <td>0.0</td>\n",
       "      <td>0.0</td>\n",
       "      <td>0.0</td>\n",
       "      <td>A pie</td>\n",
       "      <td>Ingreso_bajo</td>\n",
       "      <td>48</td>\n",
       "      <td>4.0</td>\n",
       "      <td>1.38</td>\n",
       "    </tr>\n",
       "    <tr>\n",
       "      <th>13</th>\n",
       "      <td>0.6285</td>\n",
       "      <td>0.6319</td>\n",
       "      <td>5.0</td>\n",
       "      <td>trabajo</td>\n",
       "      <td>3.0</td>\n",
       "      <td>4.0</td>\n",
       "      <td>1.0</td>\n",
       "      <td>1.0</td>\n",
       "      <td>1.0</td>\n",
       "      <td>1.0</td>\n",
       "      <td>1.0</td>\n",
       "      <td>0.0</td>\n",
       "      <td>0.0</td>\n",
       "      <td>0.0</td>\n",
       "      <td>0.0</td>\n",
       "      <td>A pie</td>\n",
       "      <td>Ingreso_medio</td>\n",
       "      <td>32</td>\n",
       "      <td>4.0</td>\n",
       "      <td>379.59</td>\n",
       "    </tr>\n",
       "  </tbody>\n",
       "</table>\n",
       "</div>"
      ],
      "text/plain": [
       "    hora_inicio_viaje  p31_hora_llegada  tiempo_viaje p17_Id_motivo_viaje  \\\n",
       "0              0.3333            0.3542          30.0       ver a alguien   \n",
       "2              0.2500            0.3125          90.0             trabajo   \n",
       "3              0.3333            0.3472          20.0             trabajo   \n",
       "12             0.2292            0.2500          30.0             trabajo   \n",
       "13             0.6285            0.6319           5.0             trabajo   \n",
       "\n",
       "    p30_camino_cuadras  p30_camino_minutos  p32_lunes  p32_martes  \\\n",
       "0                  5.0                 5.0        1.0         0.0   \n",
       "2                  4.0                15.0        1.0         1.0   \n",
       "3                  5.0                 5.0        1.0         1.0   \n",
       "12                10.0                30.0        1.0         1.0   \n",
       "13                 3.0                 4.0        1.0         1.0   \n",
       "\n",
       "    p32_miercoles  p32_jueves  p32_viernes  p32_sabado  p32_domingo  \\\n",
       "0             0.0         0.0          1.0         0.0          0.0   \n",
       "2             1.0         1.0          1.0         0.0          0.0   \n",
       "3             1.0         1.0          1.0         0.0          0.0   \n",
       "12            1.0         1.0          0.0         1.0          0.0   \n",
       "13            1.0         1.0          1.0         0.0          0.0   \n",
       "\n",
       "    p32_ocasional  p33_aplicacion_antes_viaje modo_principal  \\\n",
       "0             0.0                         0.0           SITP   \n",
       "2             0.0                         0.0           SITP   \n",
       "3             0.0                         0.0           SITP   \n",
       "12            0.0                         0.0          A pie   \n",
       "13            0.0                         0.0          A pie   \n",
       "\n",
       "   etiqueta_ingresos  edad  p15v_subsidio_SITP  A-ITTP  \n",
       "0      Ingreso_medio    37                 4.0  180.41  \n",
       "2       Ingreso_bajo    28                 4.0  303.53  \n",
       "3      Ingreso_medio    21                 4.0   54.64  \n",
       "12      Ingreso_bajo    48                 4.0    1.38  \n",
       "13     Ingreso_medio    32                 4.0  379.59  "
      ]
     },
     "execution_count": 402,
     "metadata": {},
     "output_type": "execute_result"
    }
   ],
   "source": [
    "data_ingreso = pd.read_csv('./clasificacion_ingreso.csv', index_col=0)\n",
    "data_ingreso.head()"
   ]
  },
  {
   "cell_type": "markdown",
   "metadata": {},
   "source": [
    "### Variables categoricas a float"
   ]
  },
  {
   "cell_type": "code",
   "execution_count": 403,
   "metadata": {},
   "outputs": [
    {
     "name": "stdout",
     "output_type": "stream",
     "text": [
      "0     Ingreso_medio\n",
      "2      Ingreso_bajo\n",
      "3     Ingreso_medio\n",
      "12     Ingreso_bajo\n",
      "13    Ingreso_medio\n",
      "Name: etiqueta_ingresos, dtype: object\n",
      "    hora_inicio_viaje  p31_hora_llegada  tiempo_viaje  p30_camino_cuadras  \\\n",
      "0              0.3333            0.3542          30.0                 5.0   \n",
      "2              0.2500            0.3125          90.0                 4.0   \n",
      "3              0.3333            0.3472          20.0                 5.0   \n",
      "12             0.2292            0.2500          30.0                10.0   \n",
      "13             0.6285            0.6319           5.0                 3.0   \n",
      "\n",
      "    p30_camino_minutos  p32_lunes  p32_martes  p32_miercoles  p32_jueves  \\\n",
      "0                  5.0        1.0         0.0            0.0         0.0   \n",
      "2                 15.0        1.0         1.0            1.0         1.0   \n",
      "3                  5.0        1.0         1.0            1.0         1.0   \n",
      "12                30.0        1.0         1.0            1.0         1.0   \n",
      "13                 4.0        1.0         1.0            1.0         1.0   \n",
      "\n",
      "    p32_viernes  ...  modo_principal_Complemento  \\\n",
      "0           1.0  ...                         0.0   \n",
      "2           1.0  ...                         0.0   \n",
      "3           1.0  ...                         0.0   \n",
      "12          0.0  ...                         0.0   \n",
      "13          1.0  ...                         0.0   \n",
      "\n",
      "    modo_principal_Complemento_SITP  modo_principal_Intermunicipal  \\\n",
      "0                               0.0                            0.0   \n",
      "2                               0.0                            0.0   \n",
      "3                               0.0                            0.0   \n",
      "12                              0.0                            0.0   \n",
      "13                              0.0                            0.0   \n",
      "\n",
      "    modo_principal_Moto  modo_principal_Otro  modo_principal_SITP  \\\n",
      "0                   0.0                  0.0                  1.0   \n",
      "2                   0.0                  0.0                  1.0   \n",
      "3                   0.0                  0.0                  1.0   \n",
      "12                  0.0                  0.0                  0.0   \n",
      "13                  0.0                  0.0                  0.0   \n",
      "\n",
      "    modo_principal_TransMilenio  modo_principal_Transporte Escolar  \\\n",
      "0                           0.0                                0.0   \n",
      "2                           0.0                                0.0   \n",
      "3                           0.0                                0.0   \n",
      "12                          0.0                                0.0   \n",
      "13                          0.0                                0.0   \n",
      "\n",
      "    modo_principal_Transporte informal  \\\n",
      "0                                  0.0   \n",
      "2                                  0.0   \n",
      "3                                  0.0   \n",
      "12                                 0.0   \n",
      "13                                 0.0   \n",
      "\n",
      "    modo_principal_Transporte publico individual  \n",
      "0                                            0.0  \n",
      "2                                            0.0  \n",
      "3                                            0.0  \n",
      "12                                           0.0  \n",
      "13                                           0.0  \n",
      "\n",
      "[5 rows x 46 columns]\n"
     ]
    }
   ],
   "source": [
    "y = data_ingreso['etiqueta_ingresos']\n",
    "print(y.head())\n",
    "\n",
    "X = data_ingreso.drop('etiqueta_ingresos', axis=1)\n",
    "# convert categorical variables to float\n",
    "X = pd.get_dummies(X, dtype=float)\n",
    "print(X.head())\n"
   ]
  },
  {
   "cell_type": "markdown",
   "metadata": {},
   "source": [
    "### Split dataset 0.7 train y 0.3 test"
   ]
  },
  {
   "cell_type": "code",
   "execution_count": 404,
   "metadata": {},
   "outputs": [],
   "source": [
    "# Split dataset into training set and test set\n",
    "X_train, X_test, y_train, y_test = train_test_split(X, y, test_size=0.3, random_state=1) # 70% training and 30% test"
   ]
  },
  {
   "cell_type": "code",
   "execution_count": 405,
   "metadata": {},
   "outputs": [],
   "source": [
    "# Create Decision Tree classifer object\n",
    "clf = DecisionTreeClassifier()\n",
    "\n",
    "# Train Decision Tree Classifer\n",
    "clf = clf.fit(X_train,y_train)\n",
    "\n",
    "#Predict the response for test dataset\n",
    "y_pred = clf.predict(X_test)"
   ]
  },
  {
   "cell_type": "code",
   "execution_count": 406,
   "metadata": {},
   "outputs": [
    {
     "name": "stdout",
     "output_type": "stream",
     "text": [
      "Accuracy: 0.8397745024791143\n"
     ]
    }
   ],
   "source": [
    "# Model Accuracy, how often is the classifier correct?\n",
    "print(\"Accuracy:\",metrics.accuracy_score(y_test, y_pred))"
   ]
  },
  {
   "cell_type": "markdown",
   "metadata": {},
   "source": [
    "## Arbol de decision matriz de confusion y metricas"
   ]
  },
  {
   "cell_type": "code",
   "execution_count": 407,
   "metadata": {},
   "outputs": [
    {
     "data": {
      "image/png": "[encoded data removed]",
      "text/plain": [
       "<Figure size 640x480 with 2 Axes>"
      ]
     },
     "metadata": {},
     "output_type": "display_data"
    },
    {
     "name": "stdout",
     "output_type": "stream",
     "text": [
      "               precision    recall  f1-score   support\n",
      "\n",
      " Ingreso_alto       0.71      0.73      0.72       871\n",
      " Ingreso_bajo       0.87      0.85      0.86      7263\n",
      "Ingreso_medio       0.83      0.84      0.83      6589\n",
      "\n",
      "     accuracy                           0.84     14723\n",
      "    macro avg       0.80      0.81      0.80     14723\n",
      " weighted avg       0.84      0.84      0.84     14723\n",
      "\n"
     ]
    }
   ],
   "source": [
    "# Confusion matrix\n",
    "from sklearn.metrics import confusion_matrix, classification_report, roc_curve, roc_auc_score\n",
    "import matplotlib.pyplot as plt\n",
    "cm = confusion_matrix(y_test, y_pred)\n",
    "disp = ConfusionMatrixDisplay(confusion_matrix=cm, display_labels=clf.classes_)\n",
    "disp.plot()\n",
    "plt.show()\n",
    "\n",
    "print(classification_report(y_test, y_pred))"
   ]
  },
  {
   "cell_type": "code",
   "execution_count": 408,
   "metadata": {},
   "outputs": [],
   "source": [
    "def plot_roc_curve(test_y, pred_y):\n",
    "  \"\"\"Trazar la curva ROC a partir de las respuestas correctas y las predicciones\n",
    "\n",
    "  Args:\n",
    "      test_y (ndarray of shape (n_samples,)): y\n",
    "      pred_y (ndarray of shape (n_samples,)): Valor previsto para y\n",
    "  \"\"\"\n",
    "  # Tasa de falsos positivos, tasa de verdaderos positivos\n",
    "  fprs, tprs, _ = roc_curve(test_y, pred_y, pos_label=1)\n",
    "\n",
    "  # gráfico ROC-AUC\n",
    "  plt.figure(figsize=(8, 8))\n",
    "  plt.plot([0, 1], [0, 1], linestyle=\"-\", c=\"k\", alpha=0.2, label=\"ROC-AUC=0.5\")\n",
    "  plt.plot(fprs, tprs, color=\"orange\", label=\"ROC Curve\")\n",
    "  plt.xlabel(\"False Positive Rate\")\n",
    "  plt.ylabel(\"True Positive Rate\")\n",
    "\n",
    "  # Rellene el área correspondiente a la puntuación ROC-AUC\n",
    "  y_zeros = [0 for _ in tprs]\n",
    "  plt.fill_between(fprs, y_zeros, tprs, color=\"orange\", alpha=0.3, label=\"ROC-AUC\")\n",
    "  plt.legend()\n",
    "  plt.show()"
   ]
  },
  {
   "cell_type": "code",
   "execution_count": 409,
   "metadata": {},
   "outputs": [
    {
     "name": "stdout",
     "output_type": "stream",
     "text": [
      "          values\n",
      "0  Ingreso_medio\n",
      "1  Ingreso_medio\n",
      "2  Ingreso_medio\n",
      "3   Ingreso_bajo\n",
      "4  Ingreso_medio\n",
      "          values\n",
      "0   Ingreso_bajo\n",
      "1  Ingreso_medio\n",
      "2  Ingreso_medio\n",
      "3   Ingreso_bajo\n",
      "4  Ingreso_medio\n"
     ]
    }
   ],
   "source": [
    "y_test = pd.DataFrame(y_test.to_numpy(),columns=['values'])\n",
    "y_pred = pd.DataFrame(y_pred,columns=['values'])\n",
    "print(y_test.head())\n",
    "print(y_pred.head())"
   ]
  },
  {
   "cell_type": "code",
   "execution_count": 410,
   "metadata": {},
   "outputs": [
    {
     "name": "stdout",
     "output_type": "stream",
     "text": [
      "   values\n",
      "0       1\n",
      "1       1\n",
      "2       1\n",
      "3       0\n",
      "4       1\n",
      "   values\n",
      "0       0\n",
      "1       1\n",
      "2       1\n",
      "3       0\n",
      "4       1\n"
     ]
    }
   ],
   "source": [
    "# cat to num\n",
    "y_test['values'].replace(['Ingreso_bajo', 'Ingreso_medio', 'Ingreso_alto'], [0, 1, 2], inplace=True)\n",
    "y_pred['values'].replace(['Ingreso_bajo', 'Ingreso_medio', 'Ingreso_alto'], [0, 1, 2], inplace=True)\n",
    "print(y_test.head())\n",
    "print(y_pred.head())"
   ]
  },
  {
   "cell_type": "markdown",
   "metadata": {},
   "source": [
    "## Arbol de decision curva ROC"
   ]
  },
  {
   "cell_type": "code",
   "execution_count": 411,
   "metadata": {},
   "outputs": [
    {
     "data": {
      "image/png": "[encoded data removed]",
      "text/plain": [
       "<Figure size 800x800 with 1 Axes>"
      ]
     },
     "metadata": {},
     "output_type": "display_data"
    }
   ],
   "source": [
    "plot_roc_curve(y_test, y_pred)"
   ]
  },
  {
   "cell_type": "code",
   "execution_count": 412,
   "metadata": {},
   "outputs": [],
   "source": [
    "from sklearn.tree import export_graphviz\n",
    "#from sklearn.externals.six import StringIO  \n",
    "from six import StringIO\n",
    "from IPython.display import Image  \n",
    "import pydotplus\n",
    "\n",
    "# Plotting tree\n",
    "\n",
    "#dot_data = StringIO()\n",
    "#export_graphviz(clf, out_file=dot_data,  \n",
    "#                filled=True, rounded=True,\n",
    "#                special_characters=True)\n",
    "#graph = pydotplus.graph_from_dot_data(dot_data.getvalue())  \n",
    "#graph.write_png('tree_ingreso.png')\n",
    "#Image(graph.create_png())"
   ]
  },
  {
   "cell_type": "markdown",
   "metadata": {},
   "source": [
    "# Kneibors Classifier"
   ]
  },
  {
   "cell_type": "markdown",
   "metadata": {},
   "source": [
    "### Leer datos"
   ]
  },
  {
   "cell_type": "code",
   "execution_count": 413,
   "metadata": {},
   "outputs": [
    {
     "data": {
      "text/html": [
       "<div>\n",
       "<style scoped>\n",
       "    .dataframe tbody tr th:only-of-type {\n",
       "        vertical-align: middle;\n",
       "    }\n",
       "\n",
       "    .dataframe tbody tr th {\n",
       "        vertical-align: top;\n",
       "    }\n",
       "\n",
       "    .dataframe thead th {\n",
       "        text-align: right;\n",
       "    }\n",
       "</style>\n",
       "<table border=\"1\" class=\"dataframe\">\n",
       "  <thead>\n",
       "    <tr style=\"text-align: right;\">\n",
       "      <th></th>\n",
       "      <th>hora_inicio_viaje</th>\n",
       "      <th>p31_hora_llegada</th>\n",
       "      <th>tiempo_viaje</th>\n",
       "      <th>p17_Id_motivo_viaje</th>\n",
       "      <th>p30_camino_cuadras</th>\n",
       "      <th>p30_camino_minutos</th>\n",
       "      <th>p32_lunes</th>\n",
       "      <th>p32_martes</th>\n",
       "      <th>p32_miercoles</th>\n",
       "      <th>p32_jueves</th>\n",
       "      <th>p32_viernes</th>\n",
       "      <th>p32_sabado</th>\n",
       "      <th>p32_domingo</th>\n",
       "      <th>p32_ocasional</th>\n",
       "      <th>p33_aplicacion_antes_viaje</th>\n",
       "      <th>modo_principal</th>\n",
       "      <th>etiqueta_ingresos</th>\n",
       "      <th>edad</th>\n",
       "      <th>p15v_subsidio_SITP</th>\n",
       "      <th>A-ITTP</th>\n",
       "    </tr>\n",
       "  </thead>\n",
       "  <tbody>\n",
       "    <tr>\n",
       "      <th>0</th>\n",
       "      <td>0.3333</td>\n",
       "      <td>0.3542</td>\n",
       "      <td>30.0</td>\n",
       "      <td>ver a alguien</td>\n",
       "      <td>5.0</td>\n",
       "      <td>5.0</td>\n",
       "      <td>1.0</td>\n",
       "      <td>0.0</td>\n",
       "      <td>0.0</td>\n",
       "      <td>0.0</td>\n",
       "      <td>1.0</td>\n",
       "      <td>0.0</td>\n",
       "      <td>0.0</td>\n",
       "      <td>0.0</td>\n",
       "      <td>0.0</td>\n",
       "      <td>SITP</td>\n",
       "      <td>Ingreso_medio</td>\n",
       "      <td>37</td>\n",
       "      <td>4.0</td>\n",
       "      <td>180.41</td>\n",
       "    </tr>\n",
       "    <tr>\n",
       "      <th>2</th>\n",
       "      <td>0.2500</td>\n",
       "      <td>0.3125</td>\n",
       "      <td>90.0</td>\n",
       "      <td>trabajo</td>\n",
       "      <td>4.0</td>\n",
       "      <td>15.0</td>\n",
       "      <td>1.0</td>\n",
       "      <td>1.0</td>\n",
       "      <td>1.0</td>\n",
       "      <td>1.0</td>\n",
       "      <td>1.0</td>\n",
       "      <td>0.0</td>\n",
       "      <td>0.0</td>\n",
       "      <td>0.0</td>\n",
       "      <td>0.0</td>\n",
       "      <td>SITP</td>\n",
       "      <td>Ingreso_bajo</td>\n",
       "      <td>28</td>\n",
       "      <td>4.0</td>\n",
       "      <td>303.53</td>\n",
       "    </tr>\n",
       "    <tr>\n",
       "      <th>3</th>\n",
       "      <td>0.3333</td>\n",
       "      <td>0.3472</td>\n",
       "      <td>20.0</td>\n",
       "      <td>trabajo</td>\n",
       "      <td>5.0</td>\n",
       "      <td>5.0</td>\n",
       "      <td>1.0</td>\n",
       "      <td>1.0</td>\n",
       "      <td>1.0</td>\n",
       "      <td>1.0</td>\n",
       "      <td>1.0</td>\n",
       "      <td>0.0</td>\n",
       "      <td>0.0</td>\n",
       "      <td>0.0</td>\n",
       "      <td>0.0</td>\n",
       "      <td>SITP</td>\n",
       "      <td>Ingreso_medio</td>\n",
       "      <td>21</td>\n",
       "      <td>4.0</td>\n",
       "      <td>54.64</td>\n",
       "    </tr>\n",
       "    <tr>\n",
       "      <th>12</th>\n",
       "      <td>0.2292</td>\n",
       "      <td>0.2500</td>\n",
       "      <td>30.0</td>\n",
       "      <td>trabajo</td>\n",
       "      <td>10.0</td>\n",
       "      <td>30.0</td>\n",
       "      <td>1.0</td>\n",
       "      <td>1.0</td>\n",
       "      <td>1.0</td>\n",
       "      <td>1.0</td>\n",
       "      <td>0.0</td>\n",
       "      <td>1.0</td>\n",
       "      <td>0.0</td>\n",
       "      <td>0.0</td>\n",
       "      <td>0.0</td>\n",
       "      <td>A pie</td>\n",
       "      <td>Ingreso_bajo</td>\n",
       "      <td>48</td>\n",
       "      <td>4.0</td>\n",
       "      <td>1.38</td>\n",
       "    </tr>\n",
       "    <tr>\n",
       "      <th>13</th>\n",
       "      <td>0.6285</td>\n",
       "      <td>0.6319</td>\n",
       "      <td>5.0</td>\n",
       "      <td>trabajo</td>\n",
       "      <td>3.0</td>\n",
       "      <td>4.0</td>\n",
       "      <td>1.0</td>\n",
       "      <td>1.0</td>\n",
       "      <td>1.0</td>\n",
       "      <td>1.0</td>\n",
       "      <td>1.0</td>\n",
       "      <td>0.0</td>\n",
       "      <td>0.0</td>\n",
       "      <td>0.0</td>\n",
       "      <td>0.0</td>\n",
       "      <td>A pie</td>\n",
       "      <td>Ingreso_medio</td>\n",
       "      <td>32</td>\n",
       "      <td>4.0</td>\n",
       "      <td>379.59</td>\n",
       "    </tr>\n",
       "  </tbody>\n",
       "</table>\n",
       "</div>"
      ],
      "text/plain": [
       "    hora_inicio_viaje  p31_hora_llegada  tiempo_viaje p17_Id_motivo_viaje  \\\n",
       "0              0.3333            0.3542          30.0       ver a alguien   \n",
       "2              0.2500            0.3125          90.0             trabajo   \n",
       "3              0.3333            0.3472          20.0             trabajo   \n",
       "12             0.2292            0.2500          30.0             trabajo   \n",
       "13             0.6285            0.6319           5.0             trabajo   \n",
       "\n",
       "    p30_camino_cuadras  p30_camino_minutos  p32_lunes  p32_martes  \\\n",
       "0                  5.0                 5.0        1.0         0.0   \n",
       "2                  4.0                15.0        1.0         1.0   \n",
       "3                  5.0                 5.0        1.0         1.0   \n",
       "12                10.0                30.0        1.0         1.0   \n",
       "13                 3.0                 4.0        1.0         1.0   \n",
       "\n",
       "    p32_miercoles  p32_jueves  p32_viernes  p32_sabado  p32_domingo  \\\n",
       "0             0.0         0.0          1.0         0.0          0.0   \n",
       "2             1.0         1.0          1.0         0.0          0.0   \n",
       "3             1.0         1.0          1.0         0.0          0.0   \n",
       "12            1.0         1.0          0.0         1.0          0.0   \n",
       "13            1.0         1.0          1.0         0.0          0.0   \n",
       "\n",
       "    p32_ocasional  p33_aplicacion_antes_viaje modo_principal  \\\n",
       "0             0.0                         0.0           SITP   \n",
       "2             0.0                         0.0           SITP   \n",
       "3             0.0                         0.0           SITP   \n",
       "12            0.0                         0.0          A pie   \n",
       "13            0.0                         0.0          A pie   \n",
       "\n",
       "   etiqueta_ingresos  edad  p15v_subsidio_SITP  A-ITTP  \n",
       "0      Ingreso_medio    37                 4.0  180.41  \n",
       "2       Ingreso_bajo    28                 4.0  303.53  \n",
       "3      Ingreso_medio    21                 4.0   54.64  \n",
       "12      Ingreso_bajo    48                 4.0    1.38  \n",
       "13     Ingreso_medio    32                 4.0  379.59  "
      ]
     },
     "execution_count": 413,
     "metadata": {},
     "output_type": "execute_result"
    }
   ],
   "source": [
    "data_ingreso = pd.read_csv('./clasificacion_ingreso.csv', index_col=0)\n",
    "data_ingreso.head()"
   ]
  },
  {
   "cell_type": "markdown",
   "metadata": {},
   "source": [
    "### Variables categoricas a float"
   ]
  },
  {
   "cell_type": "code",
   "execution_count": 414,
   "metadata": {},
   "outputs": [
    {
     "name": "stdout",
     "output_type": "stream",
     "text": [
      "0     Ingreso_medio\n",
      "2      Ingreso_bajo\n",
      "3     Ingreso_medio\n",
      "12     Ingreso_bajo\n",
      "13    Ingreso_medio\n",
      "Name: etiqueta_ingresos, dtype: object\n",
      "    hora_inicio_viaje  p31_hora_llegada  tiempo_viaje  p30_camino_cuadras  \\\n",
      "0              0.3333            0.3542          30.0                 5.0   \n",
      "2              0.2500            0.3125          90.0                 4.0   \n",
      "3              0.3333            0.3472          20.0                 5.0   \n",
      "12             0.2292            0.2500          30.0                10.0   \n",
      "13             0.6285            0.6319           5.0                 3.0   \n",
      "\n",
      "    p30_camino_minutos  p32_lunes  p32_martes  p32_miercoles  p32_jueves  \\\n",
      "0                  5.0        1.0         0.0            0.0         0.0   \n",
      "2                 15.0        1.0         1.0            1.0         1.0   \n",
      "3                  5.0        1.0         1.0            1.0         1.0   \n",
      "12                30.0        1.0         1.0            1.0         1.0   \n",
      "13                 4.0        1.0         1.0            1.0         1.0   \n",
      "\n",
      "    p32_viernes  ...  modo_principal_Complemento  \\\n",
      "0           1.0  ...                         0.0   \n",
      "2           1.0  ...                         0.0   \n",
      "3           1.0  ...                         0.0   \n",
      "12          0.0  ...                         0.0   \n",
      "13          1.0  ...                         0.0   \n",
      "\n",
      "    modo_principal_Complemento_SITP  modo_principal_Intermunicipal  \\\n",
      "0                               0.0                            0.0   \n",
      "2                               0.0                            0.0   \n",
      "3                               0.0                            0.0   \n",
      "12                              0.0                            0.0   \n",
      "13                              0.0                            0.0   \n",
      "\n",
      "    modo_principal_Moto  modo_principal_Otro  modo_principal_SITP  \\\n",
      "0                   0.0                  0.0                  1.0   \n",
      "2                   0.0                  0.0                  1.0   \n",
      "3                   0.0                  0.0                  1.0   \n",
      "12                  0.0                  0.0                  0.0   \n",
      "13                  0.0                  0.0                  0.0   \n",
      "\n",
      "    modo_principal_TransMilenio  modo_principal_Transporte Escolar  \\\n",
      "0                           0.0                                0.0   \n",
      "2                           0.0                                0.0   \n",
      "3                           0.0                                0.0   \n",
      "12                          0.0                                0.0   \n",
      "13                          0.0                                0.0   \n",
      "\n",
      "    modo_principal_Transporte informal  \\\n",
      "0                                  0.0   \n",
      "2                                  0.0   \n",
      "3                                  0.0   \n",
      "12                                 0.0   \n",
      "13                                 0.0   \n",
      "\n",
      "    modo_principal_Transporte publico individual  \n",
      "0                                            0.0  \n",
      "2                                            0.0  \n",
      "3                                            0.0  \n",
      "12                                           0.0  \n",
      "13                                           0.0  \n",
      "\n",
      "[5 rows x 46 columns]\n"
     ]
    }
   ],
   "source": [
    "y = data_ingreso['etiqueta_ingresos']\n",
    "print(y.head())\n",
    "\n",
    "X = data_ingreso.drop('etiqueta_ingresos', axis=1)\n",
    "# convert categorical variables to float\n",
    "X = pd.get_dummies(X, dtype=float)\n",
    "print(X.head())"
   ]
  },
  {
   "cell_type": "markdown",
   "metadata": {},
   "source": [
    "### Split dataset into training set and test set"
   ]
  },
  {
   "cell_type": "code",
   "execution_count": 415,
   "metadata": {},
   "outputs": [],
   "source": [
    "# Split dataset into training set and test set\n",
    "X_train, X_test, y_train, y_test = train_test_split(X, y, test_size=0.3, random_state=1) # 70% training and 30% test"
   ]
  },
  {
   "cell_type": "code",
   "execution_count": 416,
   "metadata": {},
   "outputs": [],
   "source": [
    "# Scale the features using StandardScaler\n",
    "scaler = StandardScaler()\n",
    "X_train = scaler.fit_transform(X_train)\n",
    "X_test = scaler.transform(X_test)"
   ]
  },
  {
   "cell_type": "code",
   "execution_count": 417,
   "metadata": {},
   "outputs": [
    {
     "data": {
      "text/html": [
       "<style>#sk-container-id-7 {color: black;}#sk-container-id-7 pre{padding: 0;}#sk-container-id-7 div.sk-toggleable {background-color: white;}#sk-container-id-7 label.sk-toggleable__label {cursor: pointer;display: block;width: 100%;margin-bottom: 0;padding: 0.3em;box-sizing: border-box;text-align: center;}#sk-container-id-7 label.sk-toggleable__label-arrow:before {content: \"▸\";float: left;margin-right: 0.25em;color: #696969;}#sk-container-id-7 label.sk-toggleable__label-arrow:hover:before {color: black;}#sk-container-id-7 div.sk-estimator:hover label.sk-toggleable__label-arrow:before {color: black;}#sk-container-id-7 div.sk-toggleable__content {max-height: 0;max-width: 0;overflow: hidden;text-align: left;background-color: #f0f8ff;}#sk-container-id-7 div.sk-toggleable__content pre {margin: 0.2em;color: black;border-radius: 0.25em;background-color: #f0f8ff;}#sk-container-id-7 input.sk-toggleable__control:checked~div.sk-toggleable__content {max-height: 200px;max-width: 100%;overflow: auto;}#sk-container-id-7 input.sk-toggleable__control:checked~label.sk-toggleable__label-arrow:before {content: \"▾\";}#sk-container-id-7 div.sk-estimator input.sk-toggleable__control:checked~label.sk-toggleable__label {background-color: #d4ebff;}#sk-container-id-7 div.sk-label input.sk-toggleable__control:checked~label.sk-toggleable__label {background-color: #d4ebff;}#sk-container-id-7 input.sk-hidden--visually {border: 0;clip: rect(1px 1px 1px 1px);clip: rect(1px, 1px, 1px, 1px);height: 1px;margin: -1px;overflow: hidden;padding: 0;position: absolute;width: 1px;}#sk-container-id-7 div.sk-estimator {font-family: monospace;background-color: #f0f8ff;border: 1px dotted black;border-radius: 0.25em;box-sizing: border-box;margin-bottom: 0.5em;}#sk-container-id-7 div.sk-estimator:hover {background-color: #d4ebff;}#sk-container-id-7 div.sk-parallel-item::after {content: \"\";width: 100%;border-bottom: 1px solid gray;flex-grow: 1;}#sk-container-id-7 div.sk-label:hover label.sk-toggleable__label {background-color: #d4ebff;}#sk-container-id-7 div.sk-serial::before {content: \"\";position: absolute;border-left: 1px solid gray;box-sizing: border-box;top: 0;bottom: 0;left: 50%;z-index: 0;}#sk-container-id-7 div.sk-serial {display: flex;flex-direction: column;align-items: center;background-color: white;padding-right: 0.2em;padding-left: 0.2em;position: relative;}#sk-container-id-7 div.sk-item {position: relative;z-index: 1;}#sk-container-id-7 div.sk-parallel {display: flex;align-items: stretch;justify-content: center;background-color: white;position: relative;}#sk-container-id-7 div.sk-item::before, #sk-container-id-7 div.sk-parallel-item::before {content: \"\";position: absolute;border-left: 1px solid gray;box-sizing: border-box;top: 0;bottom: 0;left: 50%;z-index: -1;}#sk-container-id-7 div.sk-parallel-item {display: flex;flex-direction: column;z-index: 1;position: relative;background-color: white;}#sk-container-id-7 div.sk-parallel-item:first-child::after {align-self: flex-end;width: 50%;}#sk-container-id-7 div.sk-parallel-item:last-child::after {align-self: flex-start;width: 50%;}#sk-container-id-7 div.sk-parallel-item:only-child::after {width: 0;}#sk-container-id-7 div.sk-dashed-wrapped {border: 1px dashed gray;margin: 0 0.4em 0.5em 0.4em;box-sizing: border-box;padding-bottom: 0.4em;background-color: white;}#sk-container-id-7 div.sk-label label {font-family: monospace;font-weight: bold;display: inline-block;line-height: 1.2em;}#sk-container-id-7 div.sk-label-container {text-align: center;}#sk-container-id-7 div.sk-container {/* jupyter's `normalize.less` sets `[hidden] { display: none; }` but bootstrap.min.css set `[hidden] { display: none !important; }` so we also need the `!important` here to be able to override the default hidden behavior on the sphinx rendered scikit-learn.org. See: https://github.com/scikit-learn/scikit-learn/issues/21755 */display: inline-block !important;position: relative;}#sk-container-id-7 div.sk-text-repr-fallback {display: none;}</style><div id=\"sk-container-id-7\" class=\"sk-top-container\"><div class=\"sk-text-repr-fallback\"><pre>KNeighborsClassifier(n_neighbors=3)</pre><b>In a Jupyter environment, please rerun this cell to show the HTML representation or trust the notebook. <br />On GitHub, the HTML representation is unable to render, please try loading this page with nbviewer.org.</b></div><div class=\"sk-container\" hidden><div class=\"sk-item\"><div class=\"sk-estimator sk-toggleable\"><input class=\"sk-toggleable__control sk-hidden--visually\" id=\"sk-estimator-id-7\" type=\"checkbox\" checked><label for=\"sk-estimator-id-7\" class=\"sk-toggleable__label sk-toggleable__label-arrow\">KNeighborsClassifier</label><div class=\"sk-toggleable__content\"><pre>KNeighborsClassifier(n_neighbors=3)</pre></div></div></div></div></div>"
      ],
      "text/plain": [
       "KNeighborsClassifier(n_neighbors=3)"
      ]
     },
     "execution_count": 417,
     "metadata": {},
     "output_type": "execute_result"
    }
   ],
   "source": [
    "knn = KNeighborsClassifier(n_neighbors=3)\n",
    "knn.fit(X_train, y_train)"
   ]
  },
  {
   "cell_type": "code",
   "execution_count": 418,
   "metadata": {},
   "outputs": [
    {
     "name": "stdout",
     "output_type": "stream",
     "text": [
      "[[ 199  176  496]\n",
      " [ 332 4653 2278]\n",
      " [ 642 2258 3689]]\n",
      "               precision    recall  f1-score   support\n",
      "\n",
      " Ingreso_alto       0.17      0.23      0.19       871\n",
      " Ingreso_bajo       0.66      0.64      0.65      7263\n",
      "Ingreso_medio       0.57      0.56      0.57      6589\n",
      "\n",
      "     accuracy                           0.58     14723\n",
      "    macro avg       0.47      0.48      0.47     14723\n",
      " weighted avg       0.59      0.58      0.58     14723\n",
      "\n"
     ]
    }
   ],
   "source": [
    "y_pred = knn.predict(X_test)\n",
    "print(confusion_matrix(y_test, y_pred))\n",
    "print(classification_report(y_test, y_pred))"
   ]
  },
  {
   "cell_type": "markdown",
   "metadata": {},
   "source": [
    "## Using Cross Validation to Get the Best Value of k"
   ]
  },
  {
   "cell_type": "code",
   "execution_count": 419,
   "metadata": {},
   "outputs": [
    {
     "data": {
      "text/plain": [
       "Text(0, 0.5, 'Accuracy Score')"
      ]
     },
     "execution_count": 419,
     "metadata": {},
     "output_type": "execute_result"
    },
    {
     "data": {
      "image/png": "[encoded data removed]",
      "text/plain": [
       "<Figure size 640x480 with 1 Axes>"
      ]
     },
     "metadata": {},
     "output_type": "display_data"
    }
   ],
   "source": [
    "from sklearn.model_selection import cross_val_score\n",
    "import seaborn as sns\n",
    "\n",
    "k_values = [i for i in range (1,31)]\n",
    "scores = []\n",
    "\n",
    "scaler = StandardScaler()\n",
    "X = scaler.fit_transform(X)\n",
    "\n",
    "for k in k_values:\n",
    "  knn = KNeighborsClassifier(n_neighbors=k)\n",
    "  score = cross_val_score(knn, X, y, cv=5)\n",
    "  scores.append(np.mean(score))\n",
    "\n",
    "sns.lineplot(x = k_values, y = scores, marker = 'o')\n",
    "plt.xlabel(\"K Values\")\n",
    "plt.ylabel(\"Accuracy Score\")"
   ]
  },
  {
   "cell_type": "markdown",
   "metadata": {},
   "source": [
    "## KNeighbors matriz de confusion y metricas"
   ]
  },
  {
   "cell_type": "code",
   "execution_count": 420,
   "metadata": {},
   "outputs": [
    {
     "data": {
      "image/png": "[encoded data removed]",
      "text/plain": [
       "<Figure size 640x480 with 2 Axes>"
      ]
     },
     "metadata": {},
     "output_type": "display_data"
    },
    {
     "name": "stdout",
     "output_type": "stream",
     "text": [
      "               precision    recall  f1-score   support\n",
      "\n",
      " Ingreso_alto       0.33      0.03      0.05       871\n",
      " Ingreso_bajo       0.67      0.72      0.69      7263\n",
      "Ingreso_medio       0.60      0.62      0.61      6589\n",
      "\n",
      "     accuracy                           0.64     14723\n",
      "    macro avg       0.53      0.46      0.45     14723\n",
      " weighted avg       0.62      0.64      0.62     14723\n",
      "\n"
     ]
    }
   ],
   "source": [
    "best_index = np.argmax(scores)\n",
    "best_k = k_values[best_index]\n",
    "\n",
    "knn = KNeighborsClassifier(n_neighbors=best_k)\n",
    "knn.fit(X_train, y_train)\n",
    "\n",
    "y_pred = knn.predict(X_test)\n",
    "\n",
    "cm = confusion_matrix(y_test, y_pred)\n",
    "disp = ConfusionMatrixDisplay(confusion_matrix=cm, display_labels=knn.classes_)\n",
    "disp.plot()\n",
    "plt.show()\n",
    "\n",
    "print(classification_report(y_test, y_pred))"
   ]
  },
  {
   "cell_type": "code",
   "execution_count": 421,
   "metadata": {},
   "outputs": [
    {
     "name": "stdout",
     "output_type": "stream",
     "text": [
      "          values\n",
      "0  Ingreso_medio\n",
      "1  Ingreso_medio\n",
      "2  Ingreso_medio\n",
      "3   Ingreso_bajo\n",
      "4  Ingreso_medio\n",
      "          values\n",
      "0   Ingreso_bajo\n",
      "1  Ingreso_medio\n",
      "2   Ingreso_bajo\n",
      "3  Ingreso_medio\n",
      "4   Ingreso_bajo\n"
     ]
    }
   ],
   "source": [
    "y_test = pd.DataFrame(y_test.to_numpy(),columns=['values'])\n",
    "y_pred = pd.DataFrame(y_pred,columns=['values'])\n",
    "print(y_test.head())\n",
    "print(y_pred.head())"
   ]
  },
  {
   "cell_type": "code",
   "execution_count": 422,
   "metadata": {},
   "outputs": [
    {
     "name": "stdout",
     "output_type": "stream",
     "text": [
      "   values\n",
      "0       1\n",
      "1       1\n",
      "2       1\n",
      "3       0\n",
      "4       1\n",
      "   values\n",
      "0       0\n",
      "1       1\n",
      "2       0\n",
      "3       1\n",
      "4       0\n"
     ]
    }
   ],
   "source": [
    "# cat to num\n",
    "y_test['values'].replace(['Ingreso_bajo', 'Ingreso_medio', 'Ingreso_alto'], [0, 1, 2], inplace=True)\n",
    "y_pred['values'].replace(['Ingreso_bajo', 'Ingreso_medio', 'Ingreso_alto'], [0, 1, 2], inplace=True)\n",
    "print(y_test.head())\n",
    "print(y_pred.head())"
   ]
  },
  {
   "cell_type": "markdown",
   "metadata": {},
   "source": [
    "## KNeighbors curva ROC"
   ]
  },
  {
   "cell_type": "markdown",
   "metadata": {},
   "source": [
    "### Leer datos"
   ]
  },
  {
   "cell_type": "code",
   "execution_count": 423,
   "metadata": {},
   "outputs": [
    {
     "data": {
      "text/html": [
       "<div>\n",
       "<style scoped>\n",
       "    .dataframe tbody tr th:only-of-type {\n",
       "        vertical-align: middle;\n",
       "    }\n",
       "\n",
       "    .dataframe tbody tr th {\n",
       "        vertical-align: top;\n",
       "    }\n",
       "\n",
       "    .dataframe thead th {\n",
       "        text-align: right;\n",
       "    }\n",
       "</style>\n",
       "<table border=\"1\" class=\"dataframe\">\n",
       "  <thead>\n",
       "    <tr style=\"text-align: right;\">\n",
       "      <th></th>\n",
       "      <th>hora_inicio_viaje</th>\n",
       "      <th>p31_hora_llegada</th>\n",
       "      <th>tiempo_viaje</th>\n",
       "      <th>p17_Id_motivo_viaje</th>\n",
       "      <th>p30_camino_cuadras</th>\n",
       "      <th>p30_camino_minutos</th>\n",
       "      <th>p32_lunes</th>\n",
       "      <th>p32_martes</th>\n",
       "      <th>p32_miercoles</th>\n",
       "      <th>p32_jueves</th>\n",
       "      <th>p32_viernes</th>\n",
       "      <th>p32_sabado</th>\n",
       "      <th>p32_domingo</th>\n",
       "      <th>p32_ocasional</th>\n",
       "      <th>p33_aplicacion_antes_viaje</th>\n",
       "      <th>modo_principal</th>\n",
       "      <th>etiqueta_ingresos</th>\n",
       "      <th>edad</th>\n",
       "      <th>p15v_subsidio_SITP</th>\n",
       "      <th>A-ITTP</th>\n",
       "    </tr>\n",
       "  </thead>\n",
       "  <tbody>\n",
       "    <tr>\n",
       "      <th>0</th>\n",
       "      <td>0.3333</td>\n",
       "      <td>0.3542</td>\n",
       "      <td>30.0</td>\n",
       "      <td>ver a alguien</td>\n",
       "      <td>5.0</td>\n",
       "      <td>5.0</td>\n",
       "      <td>1.0</td>\n",
       "      <td>0.0</td>\n",
       "      <td>0.0</td>\n",
       "      <td>0.0</td>\n",
       "      <td>1.0</td>\n",
       "      <td>0.0</td>\n",
       "      <td>0.0</td>\n",
       "      <td>0.0</td>\n",
       "      <td>0.0</td>\n",
       "      <td>SITP</td>\n",
       "      <td>Ingreso_medio</td>\n",
       "      <td>37</td>\n",
       "      <td>4.0</td>\n",
       "      <td>180.41</td>\n",
       "    </tr>\n",
       "    <tr>\n",
       "      <th>2</th>\n",
       "      <td>0.2500</td>\n",
       "      <td>0.3125</td>\n",
       "      <td>90.0</td>\n",
       "      <td>trabajo</td>\n",
       "      <td>4.0</td>\n",
       "      <td>15.0</td>\n",
       "      <td>1.0</td>\n",
       "      <td>1.0</td>\n",
       "      <td>1.0</td>\n",
       "      <td>1.0</td>\n",
       "      <td>1.0</td>\n",
       "      <td>0.0</td>\n",
       "      <td>0.0</td>\n",
       "      <td>0.0</td>\n",
       "      <td>0.0</td>\n",
       "      <td>SITP</td>\n",
       "      <td>Ingreso_bajo</td>\n",
       "      <td>28</td>\n",
       "      <td>4.0</td>\n",
       "      <td>303.53</td>\n",
       "    </tr>\n",
       "    <tr>\n",
       "      <th>3</th>\n",
       "      <td>0.3333</td>\n",
       "      <td>0.3472</td>\n",
       "      <td>20.0</td>\n",
       "      <td>trabajo</td>\n",
       "      <td>5.0</td>\n",
       "      <td>5.0</td>\n",
       "      <td>1.0</td>\n",
       "      <td>1.0</td>\n",
       "      <td>1.0</td>\n",
       "      <td>1.0</td>\n",
       "      <td>1.0</td>\n",
       "      <td>0.0</td>\n",
       "      <td>0.0</td>\n",
       "      <td>0.0</td>\n",
       "      <td>0.0</td>\n",
       "      <td>SITP</td>\n",
       "      <td>Ingreso_medio</td>\n",
       "      <td>21</td>\n",
       "      <td>4.0</td>\n",
       "      <td>54.64</td>\n",
       "    </tr>\n",
       "    <tr>\n",
       "      <th>12</th>\n",
       "      <td>0.2292</td>\n",
       "      <td>0.2500</td>\n",
       "      <td>30.0</td>\n",
       "      <td>trabajo</td>\n",
       "      <td>10.0</td>\n",
       "      <td>30.0</td>\n",
       "      <td>1.0</td>\n",
       "      <td>1.0</td>\n",
       "      <td>1.0</td>\n",
       "      <td>1.0</td>\n",
       "      <td>0.0</td>\n",
       "      <td>1.0</td>\n",
       "      <td>0.0</td>\n",
       "      <td>0.0</td>\n",
       "      <td>0.0</td>\n",
       "      <td>A pie</td>\n",
       "      <td>Ingreso_bajo</td>\n",
       "      <td>48</td>\n",
       "      <td>4.0</td>\n",
       "      <td>1.38</td>\n",
       "    </tr>\n",
       "    <tr>\n",
       "      <th>13</th>\n",
       "      <td>0.6285</td>\n",
       "      <td>0.6319</td>\n",
       "      <td>5.0</td>\n",
       "      <td>trabajo</td>\n",
       "      <td>3.0</td>\n",
       "      <td>4.0</td>\n",
       "      <td>1.0</td>\n",
       "      <td>1.0</td>\n",
       "      <td>1.0</td>\n",
       "      <td>1.0</td>\n",
       "      <td>1.0</td>\n",
       "      <td>0.0</td>\n",
       "      <td>0.0</td>\n",
       "      <td>0.0</td>\n",
       "      <td>0.0</td>\n",
       "      <td>A pie</td>\n",
       "      <td>Ingreso_medio</td>\n",
       "      <td>32</td>\n",
       "      <td>4.0</td>\n",
       "      <td>379.59</td>\n",
       "    </tr>\n",
       "  </tbody>\n",
       "</table>\n",
       "</div>"
      ],
      "text/plain": [
       "    hora_inicio_viaje  p31_hora_llegada  tiempo_viaje p17_Id_motivo_viaje  \\\n",
       "0              0.3333            0.3542          30.0       ver a alguien   \n",
       "2              0.2500            0.3125          90.0             trabajo   \n",
       "3              0.3333            0.3472          20.0             trabajo   \n",
       "12             0.2292            0.2500          30.0             trabajo   \n",
       "13             0.6285            0.6319           5.0             trabajo   \n",
       "\n",
       "    p30_camino_cuadras  p30_camino_minutos  p32_lunes  p32_martes  \\\n",
       "0                  5.0                 5.0        1.0         0.0   \n",
       "2                  4.0                15.0        1.0         1.0   \n",
       "3                  5.0                 5.0        1.0         1.0   \n",
       "12                10.0                30.0        1.0         1.0   \n",
       "13                 3.0                 4.0        1.0         1.0   \n",
       "\n",
       "    p32_miercoles  p32_jueves  p32_viernes  p32_sabado  p32_domingo  \\\n",
       "0             0.0         0.0          1.0         0.0          0.0   \n",
       "2             1.0         1.0          1.0         0.0          0.0   \n",
       "3             1.0         1.0          1.0         0.0          0.0   \n",
       "12            1.0         1.0          0.0         1.0          0.0   \n",
       "13            1.0         1.0          1.0         0.0          0.0   \n",
       "\n",
       "    p32_ocasional  p33_aplicacion_antes_viaje modo_principal  \\\n",
       "0             0.0                         0.0           SITP   \n",
       "2             0.0                         0.0           SITP   \n",
       "3             0.0                         0.0           SITP   \n",
       "12            0.0                         0.0          A pie   \n",
       "13            0.0                         0.0          A pie   \n",
       "\n",
       "   etiqueta_ingresos  edad  p15v_subsidio_SITP  A-ITTP  \n",
       "0      Ingreso_medio    37                 4.0  180.41  \n",
       "2       Ingreso_bajo    28                 4.0  303.53  \n",
       "3      Ingreso_medio    21                 4.0   54.64  \n",
       "12      Ingreso_bajo    48                 4.0    1.38  \n",
       "13     Ingreso_medio    32                 4.0  379.59  "
      ]
     },
     "execution_count": 423,
     "metadata": {},
     "output_type": "execute_result"
    }
   ],
   "source": [
    "data_ingreso = pd.read_csv('./clasificacion_ingreso.csv', index_col=0)\n",
    "data_ingreso.head()"
   ]
  },
  {
   "cell_type": "markdown",
   "metadata": {},
   "source": [
    "### Variables categoricas a float"
   ]
  },
  {
   "cell_type": "code",
   "execution_count": 424,
   "metadata": {},
   "outputs": [
    {
     "name": "stdout",
     "output_type": "stream",
     "text": [
      "0     Ingreso_medio\n",
      "2      Ingreso_bajo\n",
      "3     Ingreso_medio\n",
      "12     Ingreso_bajo\n",
      "13    Ingreso_medio\n",
      "Name: etiqueta_ingresos, dtype: object\n",
      "    hora_inicio_viaje  p31_hora_llegada  tiempo_viaje  p30_camino_cuadras  \\\n",
      "0              0.3333            0.3542          30.0                 5.0   \n",
      "2              0.2500            0.3125          90.0                 4.0   \n",
      "3              0.3333            0.3472          20.0                 5.0   \n",
      "12             0.2292            0.2500          30.0                10.0   \n",
      "13             0.6285            0.6319           5.0                 3.0   \n",
      "\n",
      "    p30_camino_minutos  p32_lunes  p32_martes  p32_miercoles  p32_jueves  \\\n",
      "0                  5.0        1.0         0.0            0.0         0.0   \n",
      "2                 15.0        1.0         1.0            1.0         1.0   \n",
      "3                  5.0        1.0         1.0            1.0         1.0   \n",
      "12                30.0        1.0         1.0            1.0         1.0   \n",
      "13                 4.0        1.0         1.0            1.0         1.0   \n",
      "\n",
      "    p32_viernes  ...  modo_principal_Complemento  \\\n",
      "0           1.0  ...                         0.0   \n",
      "2           1.0  ...                         0.0   \n",
      "3           1.0  ...                         0.0   \n",
      "12          0.0  ...                         0.0   \n",
      "13          1.0  ...                         0.0   \n",
      "\n",
      "    modo_principal_Complemento_SITP  modo_principal_Intermunicipal  \\\n",
      "0                               0.0                            0.0   \n",
      "2                               0.0                            0.0   \n",
      "3                               0.0                            0.0   \n",
      "12                              0.0                            0.0   \n",
      "13                              0.0                            0.0   \n",
      "\n",
      "    modo_principal_Moto  modo_principal_Otro  modo_principal_SITP  \\\n",
      "0                   0.0                  0.0                  1.0   \n",
      "2                   0.0                  0.0                  1.0   \n",
      "3                   0.0                  0.0                  1.0   \n",
      "12                  0.0                  0.0                  0.0   \n",
      "13                  0.0                  0.0                  0.0   \n",
      "\n",
      "    modo_principal_TransMilenio  modo_principal_Transporte Escolar  \\\n",
      "0                           0.0                                0.0   \n",
      "2                           0.0                                0.0   \n",
      "3                           0.0                                0.0   \n",
      "12                          0.0                                0.0   \n",
      "13                          0.0                                0.0   \n",
      "\n",
      "    modo_principal_Transporte informal  \\\n",
      "0                                  0.0   \n",
      "2                                  0.0   \n",
      "3                                  0.0   \n",
      "12                                 0.0   \n",
      "13                                 0.0   \n",
      "\n",
      "    modo_principal_Transporte publico individual  \n",
      "0                                            0.0  \n",
      "2                                            0.0  \n",
      "3                                            0.0  \n",
      "12                                           0.0  \n",
      "13                                           0.0  \n",
      "\n",
      "[5 rows x 46 columns]\n"
     ]
    }
   ],
   "source": [
    "y = data_ingreso['etiqueta_ingresos']\n",
    "print(y.head())\n",
    "\n",
    "X = data_ingreso.drop('etiqueta_ingresos', axis=1)\n",
    "# convert categorical variables to float\n",
    "X = pd.get_dummies(X, dtype=float)\n",
    "print(X.head())"
   ]
  },
  {
   "cell_type": "code",
   "execution_count": 425,
   "metadata": {},
   "outputs": [
    {
     "data": {
      "image/png": "[encoded data removed]",
      "text/plain": [
       "<Figure size 800x800 with 1 Axes>"
      ]
     },
     "metadata": {},
     "output_type": "display_data"
    }
   ],
   "source": [
    "plot_roc_curve(y_test, y_pred)"
   ]
  },
  {
   "cell_type": "markdown",
   "metadata": {},
   "source": [
    "# Naive Bayes"
   ]
  },
  {
   "cell_type": "markdown",
   "metadata": {},
   "source": [
    "### Leer datos"
   ]
  },
  {
   "cell_type": "code",
   "execution_count": 431,
   "metadata": {},
   "outputs": [
    {
     "data": {
      "text/html": [
       "<div>\n",
       "<style scoped>\n",
       "    .dataframe tbody tr th:only-of-type {\n",
       "        vertical-align: middle;\n",
       "    }\n",
       "\n",
       "    .dataframe tbody tr th {\n",
       "        vertical-align: top;\n",
       "    }\n",
       "\n",
       "    .dataframe thead th {\n",
       "        text-align: right;\n",
       "    }\n",
       "</style>\n",
       "<table border=\"1\" class=\"dataframe\">\n",
       "  <thead>\n",
       "    <tr style=\"text-align: right;\">\n",
       "      <th></th>\n",
       "      <th>hora_inicio_viaje</th>\n",
       "      <th>p31_hora_llegada</th>\n",
       "      <th>tiempo_viaje</th>\n",
       "      <th>p17_Id_motivo_viaje</th>\n",
       "      <th>p30_camino_cuadras</th>\n",
       "      <th>p30_camino_minutos</th>\n",
       "      <th>p32_lunes</th>\n",
       "      <th>p32_martes</th>\n",
       "      <th>p32_miercoles</th>\n",
       "      <th>p32_jueves</th>\n",
       "      <th>p32_viernes</th>\n",
       "      <th>p32_sabado</th>\n",
       "      <th>p32_domingo</th>\n",
       "      <th>p32_ocasional</th>\n",
       "      <th>p33_aplicacion_antes_viaje</th>\n",
       "      <th>modo_principal</th>\n",
       "      <th>etiqueta_ingresos</th>\n",
       "      <th>edad</th>\n",
       "      <th>p15v_subsidio_SITP</th>\n",
       "      <th>A-ITTP</th>\n",
       "    </tr>\n",
       "  </thead>\n",
       "  <tbody>\n",
       "    <tr>\n",
       "      <th>0</th>\n",
       "      <td>0.3333</td>\n",
       "      <td>0.3542</td>\n",
       "      <td>30.0</td>\n",
       "      <td>ver a alguien</td>\n",
       "      <td>5.0</td>\n",
       "      <td>5.0</td>\n",
       "      <td>1.0</td>\n",
       "      <td>0.0</td>\n",
       "      <td>0.0</td>\n",
       "      <td>0.0</td>\n",
       "      <td>1.0</td>\n",
       "      <td>0.0</td>\n",
       "      <td>0.0</td>\n",
       "      <td>0.0</td>\n",
       "      <td>0.0</td>\n",
       "      <td>SITP</td>\n",
       "      <td>Ingreso_medio</td>\n",
       "      <td>37</td>\n",
       "      <td>4.0</td>\n",
       "      <td>180.41</td>\n",
       "    </tr>\n",
       "    <tr>\n",
       "      <th>2</th>\n",
       "      <td>0.2500</td>\n",
       "      <td>0.3125</td>\n",
       "      <td>90.0</td>\n",
       "      <td>trabajo</td>\n",
       "      <td>4.0</td>\n",
       "      <td>15.0</td>\n",
       "      <td>1.0</td>\n",
       "      <td>1.0</td>\n",
       "      <td>1.0</td>\n",
       "      <td>1.0</td>\n",
       "      <td>1.0</td>\n",
       "      <td>0.0</td>\n",
       "      <td>0.0</td>\n",
       "      <td>0.0</td>\n",
       "      <td>0.0</td>\n",
       "      <td>SITP</td>\n",
       "      <td>Ingreso_bajo</td>\n",
       "      <td>28</td>\n",
       "      <td>4.0</td>\n",
       "      <td>303.53</td>\n",
       "    </tr>\n",
       "    <tr>\n",
       "      <th>3</th>\n",
       "      <td>0.3333</td>\n",
       "      <td>0.3472</td>\n",
       "      <td>20.0</td>\n",
       "      <td>trabajo</td>\n",
       "      <td>5.0</td>\n",
       "      <td>5.0</td>\n",
       "      <td>1.0</td>\n",
       "      <td>1.0</td>\n",
       "      <td>1.0</td>\n",
       "      <td>1.0</td>\n",
       "      <td>1.0</td>\n",
       "      <td>0.0</td>\n",
       "      <td>0.0</td>\n",
       "      <td>0.0</td>\n",
       "      <td>0.0</td>\n",
       "      <td>SITP</td>\n",
       "      <td>Ingreso_medio</td>\n",
       "      <td>21</td>\n",
       "      <td>4.0</td>\n",
       "      <td>54.64</td>\n",
       "    </tr>\n",
       "    <tr>\n",
       "      <th>12</th>\n",
       "      <td>0.2292</td>\n",
       "      <td>0.2500</td>\n",
       "      <td>30.0</td>\n",
       "      <td>trabajo</td>\n",
       "      <td>10.0</td>\n",
       "      <td>30.0</td>\n",
       "      <td>1.0</td>\n",
       "      <td>1.0</td>\n",
       "      <td>1.0</td>\n",
       "      <td>1.0</td>\n",
       "      <td>0.0</td>\n",
       "      <td>1.0</td>\n",
       "      <td>0.0</td>\n",
       "      <td>0.0</td>\n",
       "      <td>0.0</td>\n",
       "      <td>A pie</td>\n",
       "      <td>Ingreso_bajo</td>\n",
       "      <td>48</td>\n",
       "      <td>4.0</td>\n",
       "      <td>1.38</td>\n",
       "    </tr>\n",
       "    <tr>\n",
       "      <th>13</th>\n",
       "      <td>0.6285</td>\n",
       "      <td>0.6319</td>\n",
       "      <td>5.0</td>\n",
       "      <td>trabajo</td>\n",
       "      <td>3.0</td>\n",
       "      <td>4.0</td>\n",
       "      <td>1.0</td>\n",
       "      <td>1.0</td>\n",
       "      <td>1.0</td>\n",
       "      <td>1.0</td>\n",
       "      <td>1.0</td>\n",
       "      <td>0.0</td>\n",
       "      <td>0.0</td>\n",
       "      <td>0.0</td>\n",
       "      <td>0.0</td>\n",
       "      <td>A pie</td>\n",
       "      <td>Ingreso_medio</td>\n",
       "      <td>32</td>\n",
       "      <td>4.0</td>\n",
       "      <td>379.59</td>\n",
       "    </tr>\n",
       "  </tbody>\n",
       "</table>\n",
       "</div>"
      ],
      "text/plain": [
       "    hora_inicio_viaje  p31_hora_llegada  tiempo_viaje p17_Id_motivo_viaje  \\\n",
       "0              0.3333            0.3542          30.0       ver a alguien   \n",
       "2              0.2500            0.3125          90.0             trabajo   \n",
       "3              0.3333            0.3472          20.0             trabajo   \n",
       "12             0.2292            0.2500          30.0             trabajo   \n",
       "13             0.6285            0.6319           5.0             trabajo   \n",
       "\n",
       "    p30_camino_cuadras  p30_camino_minutos  p32_lunes  p32_martes  \\\n",
       "0                  5.0                 5.0        1.0         0.0   \n",
       "2                  4.0                15.0        1.0         1.0   \n",
       "3                  5.0                 5.0        1.0         1.0   \n",
       "12                10.0                30.0        1.0         1.0   \n",
       "13                 3.0                 4.0        1.0         1.0   \n",
       "\n",
       "    p32_miercoles  p32_jueves  p32_viernes  p32_sabado  p32_domingo  \\\n",
       "0             0.0         0.0          1.0         0.0          0.0   \n",
       "2             1.0         1.0          1.0         0.0          0.0   \n",
       "3             1.0         1.0          1.0         0.0          0.0   \n",
       "12            1.0         1.0          0.0         1.0          0.0   \n",
       "13            1.0         1.0          1.0         0.0          0.0   \n",
       "\n",
       "    p32_ocasional  p33_aplicacion_antes_viaje modo_principal  \\\n",
       "0             0.0                         0.0           SITP   \n",
       "2             0.0                         0.0           SITP   \n",
       "3             0.0                         0.0           SITP   \n",
       "12            0.0                         0.0          A pie   \n",
       "13            0.0                         0.0          A pie   \n",
       "\n",
       "   etiqueta_ingresos  edad  p15v_subsidio_SITP  A-ITTP  \n",
       "0      Ingreso_medio    37                 4.0  180.41  \n",
       "2       Ingreso_bajo    28                 4.0  303.53  \n",
       "3      Ingreso_medio    21                 4.0   54.64  \n",
       "12      Ingreso_bajo    48                 4.0    1.38  \n",
       "13     Ingreso_medio    32                 4.0  379.59  "
      ]
     },
     "execution_count": 431,
     "metadata": {},
     "output_type": "execute_result"
    }
   ],
   "source": [
    "data_ingreso = pd.read_csv('./clasificacion_ingreso.csv', index_col=0)\n",
    "data_ingreso.head()"
   ]
  },
  {
   "cell_type": "markdown",
   "metadata": {},
   "source": [
    "### Variables categoricas a float"
   ]
  },
  {
   "cell_type": "code",
   "execution_count": 432,
   "metadata": {},
   "outputs": [
    {
     "name": "stdout",
     "output_type": "stream",
     "text": [
      "0     Ingreso_medio\n",
      "2      Ingreso_bajo\n",
      "3     Ingreso_medio\n",
      "12     Ingreso_bajo\n",
      "13    Ingreso_medio\n",
      "Name: etiqueta_ingresos, dtype: object\n",
      "    hora_inicio_viaje  p31_hora_llegada  tiempo_viaje  p30_camino_cuadras  \\\n",
      "0              0.3333            0.3542          30.0                 5.0   \n",
      "2              0.2500            0.3125          90.0                 4.0   \n",
      "3              0.3333            0.3472          20.0                 5.0   \n",
      "12             0.2292            0.2500          30.0                10.0   \n",
      "13             0.6285            0.6319           5.0                 3.0   \n",
      "\n",
      "    p30_camino_minutos  p32_lunes  p32_martes  p32_miercoles  p32_jueves  \\\n",
      "0                  5.0        1.0         0.0            0.0         0.0   \n",
      "2                 15.0        1.0         1.0            1.0         1.0   \n",
      "3                  5.0        1.0         1.0            1.0         1.0   \n",
      "12                30.0        1.0         1.0            1.0         1.0   \n",
      "13                 4.0        1.0         1.0            1.0         1.0   \n",
      "\n",
      "    p32_viernes  ...  modo_principal_Complemento  \\\n",
      "0           1.0  ...                         0.0   \n",
      "2           1.0  ...                         0.0   \n",
      "3           1.0  ...                         0.0   \n",
      "12          0.0  ...                         0.0   \n",
      "13          1.0  ...                         0.0   \n",
      "\n",
      "    modo_principal_Complemento_SITP  modo_principal_Intermunicipal  \\\n",
      "0                               0.0                            0.0   \n",
      "2                               0.0                            0.0   \n",
      "3                               0.0                            0.0   \n",
      "12                              0.0                            0.0   \n",
      "13                              0.0                            0.0   \n",
      "\n",
      "    modo_principal_Moto  modo_principal_Otro  modo_principal_SITP  \\\n",
      "0                   0.0                  0.0                  1.0   \n",
      "2                   0.0                  0.0                  1.0   \n",
      "3                   0.0                  0.0                  1.0   \n",
      "12                  0.0                  0.0                  0.0   \n",
      "13                  0.0                  0.0                  0.0   \n",
      "\n",
      "    modo_principal_TransMilenio  modo_principal_Transporte Escolar  \\\n",
      "0                           0.0                                0.0   \n",
      "2                           0.0                                0.0   \n",
      "3                           0.0                                0.0   \n",
      "12                          0.0                                0.0   \n",
      "13                          0.0                                0.0   \n",
      "\n",
      "    modo_principal_Transporte informal  \\\n",
      "0                                  0.0   \n",
      "2                                  0.0   \n",
      "3                                  0.0   \n",
      "12                                 0.0   \n",
      "13                                 0.0   \n",
      "\n",
      "    modo_principal_Transporte publico individual  \n",
      "0                                            0.0  \n",
      "2                                            0.0  \n",
      "3                                            0.0  \n",
      "12                                           0.0  \n",
      "13                                           0.0  \n",
      "\n",
      "[5 rows x 46 columns]\n"
     ]
    }
   ],
   "source": [
    "y = data_ingreso['etiqueta_ingresos']\n",
    "print(y.head())\n",
    "\n",
    "X = data_ingreso.drop('etiqueta_ingresos', axis=1)\n",
    "# convert categorical variables to float\n",
    "X = pd.get_dummies(X, dtype=float)\n",
    "print(X.head())\n"
   ]
  },
  {
   "cell_type": "markdown",
   "metadata": {},
   "source": [
    "### Split dataset into training set and test set"
   ]
  },
  {
   "cell_type": "code",
   "execution_count": 433,
   "metadata": {},
   "outputs": [],
   "source": [
    "# Split dataset into training set and test set\n",
    "X_train, X_test, y_train, y_test = train_test_split(X, y, test_size=0.3, random_state=1) # 70% training and 30% test"
   ]
  },
  {
   "cell_type": "code",
   "execution_count": 434,
   "metadata": {},
   "outputs": [
    {
     "name": "stdout",
     "output_type": "stream",
     "text": [
      "Model accuracy score: 0.4080\n"
     ]
    }
   ],
   "source": [
    "# instantiate the model\n",
    "gnb = GaussianNB()\n",
    "# fit the model\n",
    "gnb.fit(X_train, y_train)\n",
    "\n",
    "y_pred = gnb.predict(X_test)\n",
    "\n",
    "print('Model accuracy score: {0:0.4f}'. format(metrics.accuracy_score(y_test, y_pred)))"
   ]
  },
  {
   "cell_type": "markdown",
   "metadata": {},
   "source": [
    "### Check for overfitting and underfitting"
   ]
  },
  {
   "cell_type": "code",
   "execution_count": 435,
   "metadata": {},
   "outputs": [
    {
     "name": "stdout",
     "output_type": "stream",
     "text": [
      "Training set score: 0.4043\n",
      "Test set score: 0.4080\n"
     ]
    }
   ],
   "source": [
    "# print the scores on training and test set\n",
    "print('Training set score: {:.4f}'.format(gnb.score(X_train, y_train)))\n",
    "print('Test set score: {:.4f}'.format(gnb.score(X_test, y_test)))"
   ]
  },
  {
   "cell_type": "markdown",
   "metadata": {},
   "source": [
    "The training-set accuracy score is 0.2325 while the test-set accuracy to be 0.2325. These two values are quite comparable. So, there is no sign of overfitting."
   ]
  },
  {
   "cell_type": "markdown",
   "metadata": {},
   "source": [
    "## Naive Bayes matriz de confusion y metricas"
   ]
  },
  {
   "cell_type": "code",
   "execution_count": 436,
   "metadata": {},
   "outputs": [
    {
     "data": {
      "image/png": "[encoded data removed]",
      "text/plain": [
       "<Figure size 640x480 with 2 Axes>"
      ]
     },
     "metadata": {},
     "output_type": "display_data"
    },
    {
     "name": "stdout",
     "output_type": "stream",
     "text": [
      "               precision    recall  f1-score   support\n",
      "\n",
      " Ingreso_alto       0.11      0.75      0.19       871\n",
      " Ingreso_bajo       0.63      0.60      0.62      7263\n",
      "Ingreso_medio       0.58      0.15      0.23      6589\n",
      "\n",
      "     accuracy                           0.41     14723\n",
      "    macro avg       0.44      0.50      0.35     14723\n",
      " weighted avg       0.58      0.41      0.42     14723\n",
      "\n"
     ]
    }
   ],
   "source": [
    "cm = confusion_matrix(y_test, y_pred)\n",
    "disp = ConfusionMatrixDisplay(confusion_matrix=cm, display_labels=gnb.classes_)\n",
    "disp.plot()\n",
    "plt.show()\n",
    "\n",
    "print(classification_report(y_test, y_pred))"
   ]
  },
  {
   "cell_type": "code",
   "execution_count": 437,
   "metadata": {},
   "outputs": [
    {
     "name": "stdout",
     "output_type": "stream",
     "text": [
      "          values\n",
      "0  Ingreso_medio\n",
      "1  Ingreso_medio\n",
      "2  Ingreso_medio\n",
      "3   Ingreso_bajo\n",
      "4  Ingreso_medio\n",
      "         values\n",
      "0  Ingreso_bajo\n",
      "1  Ingreso_alto\n",
      "2  Ingreso_bajo\n",
      "3  Ingreso_alto\n",
      "4  Ingreso_alto\n"
     ]
    }
   ],
   "source": [
    "y_test = pd.DataFrame(y_test.to_numpy(),columns=['values'])\n",
    "y_pred = pd.DataFrame(y_pred,columns=['values'])\n",
    "print(y_test.head())\n",
    "print(y_pred.head())"
   ]
  },
  {
   "cell_type": "code",
   "execution_count": 438,
   "metadata": {},
   "outputs": [
    {
     "name": "stdout",
     "output_type": "stream",
     "text": [
      "   values\n",
      "0       1\n",
      "1       1\n",
      "2       1\n",
      "3       0\n",
      "4       1\n",
      "   values\n",
      "0       0\n",
      "1       2\n",
      "2       0\n",
      "3       2\n",
      "4       2\n"
     ]
    }
   ],
   "source": [
    "# cat to num\n",
    "y_test['values'].replace(['Ingreso_bajo', 'Ingreso_medio', 'Ingreso_alto'], [0, 1, 2], inplace=True)\n",
    "y_pred['values'].replace(['Ingreso_bajo', 'Ingreso_medio', 'Ingreso_alto'], [0, 1, 2], inplace=True)\n",
    "print(y_test.head())\n",
    "print(y_pred.head())"
   ]
  },
  {
   "cell_type": "markdown",
   "metadata": {},
   "source": [
    "# Naive Bayes curva ROC"
   ]
  },
  {
   "cell_type": "code",
   "execution_count": 439,
   "metadata": {},
   "outputs": [
    {
     "data": {
      "image/png": "[encoded data removed]",
      "text/plain": [
       "<Figure size 800x800 with 1 Axes>"
      ]
     },
     "metadata": {},
     "output_type": "display_data"
    }
   ],
   "source": [
    "plot_roc_curve(y_test, y_pred)"
   ]
  }
 ],
 "metadata": {
  "kernelspec": {
   "display_name": "Python 3",
   "language": "python",
   "name": "python3"
  },
  "language_info": {
   "codemirror_mode": {
    "name": "ipython",
    "version": 3
   },
   "file_extension": ".py",
   "mimetype": "text/x-python",
   "name": "python",
   "nbconvert_exporter": "python",
   "pygments_lexer": "ipython3",
   "version": "3.11.6"
  }
 },
 "nbformat": 4,
 "nbformat_minor": 2
}
